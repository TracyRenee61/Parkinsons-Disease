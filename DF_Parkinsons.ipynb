{
  "nbformat": 4,
  "nbformat_minor": 0,
  "metadata": {
    "colab": {
      "name": "DF Parkinsons.ipynb",
      "provenance": []
    },
    "kernelspec": {
      "name": "python3",
      "display_name": "Python 3"
    }
  },
  "cells": [
    {
      "cell_type": "markdown",
      "metadata": {
        "id": "6WGt4bzlQ4Bu"
      },
      "source": [
        "Problem statement:-\r\n",
        "\r\n",
        "Parkinson’s disease is a progressive disorder of the central nervous system affecting movement and inducing tremors and stiffness. It has 5 stages to it and affects more than 1 million individuals every year in India. This is chronic and has no cure yet. It is a neurodegenerative disorder affecting dopamine-producing neurons in the brain.\r\n",
        "\r\n",
        "project taken from:- https://data-flair.training/blogs/python-machine-learning-project-detecting-parkinson-disease/"
      ]
    },
    {
      "cell_type": "markdown",
      "metadata": {
        "id": "KWDXqQaaPj5U"
      },
      "source": [
        "Import Libraries"
      ]
    },
    {
      "cell_type": "code",
      "metadata": {
        "id": "E356M3jsPfNk"
      },
      "source": [
        "import pandas as pd\r\n",
        "import numpy as np\r\n",
        "import matplotlib.pyplot as plt\r\n",
        "import seaborn as sns"
      ],
      "execution_count": 157,
      "outputs": []
    },
    {
      "cell_type": "markdown",
      "metadata": {
        "id": "pCE_xGGVPuvG"
      },
      "source": [
        "Load file"
      ]
    },
    {
      "cell_type": "markdown",
      "metadata": {
        "id": "TfhLeQgZhOq4"
      },
      "source": [
        "dataset taken from:- \r\n",
        "https://data.world/uci/parkinsons/workspace/file?filename=parkinsons.names.txt"
      ]
    },
    {
      "cell_type": "code",
      "metadata": {
        "colab": {
          "base_uri": "https://localhost:8080/",
          "height": 419
        },
        "id": "8UDz1iULPw4u",
        "outputId": "b020a385-6dd7-4fc2-866b-f371320ea2e3"
      },
      "source": [
        "df = pd.read_csv('https://query.data.world/s/zanuna3yykghp673nuwjtrp3n5id4r')\r\n",
        "df"
      ],
      "execution_count": 158,
      "outputs": [
        {
          "output_type": "execute_result",
          "data": {
            "text/html": [
              "<div>\n",
              "<style scoped>\n",
              "    .dataframe tbody tr th:only-of-type {\n",
              "        vertical-align: middle;\n",
              "    }\n",
              "\n",
              "    .dataframe tbody tr th {\n",
              "        vertical-align: top;\n",
              "    }\n",
              "\n",
              "    .dataframe thead th {\n",
              "        text-align: right;\n",
              "    }\n",
              "</style>\n",
              "<table border=\"1\" class=\"dataframe\">\n",
              "  <thead>\n",
              "    <tr style=\"text-align: right;\">\n",
              "      <th></th>\n",
              "      <th>name</th>\n",
              "      <th>MDVP:Fo(Hz)</th>\n",
              "      <th>MDVP:Fhi(Hz)</th>\n",
              "      <th>MDVP:Flo(Hz)</th>\n",
              "      <th>MDVP:Jitter(%)</th>\n",
              "      <th>MDVP:Jitter(Abs)</th>\n",
              "      <th>MDVP:RAP</th>\n",
              "      <th>MDVP:PPQ</th>\n",
              "      <th>Jitter:DDP</th>\n",
              "      <th>MDVP:Shimmer</th>\n",
              "      <th>MDVP:Shimmer(dB)</th>\n",
              "      <th>Shimmer:APQ3</th>\n",
              "      <th>Shimmer:APQ5</th>\n",
              "      <th>MDVP:APQ</th>\n",
              "      <th>Shimmer:DDA</th>\n",
              "      <th>NHR</th>\n",
              "      <th>HNR</th>\n",
              "      <th>status</th>\n",
              "      <th>RPDE</th>\n",
              "      <th>DFA</th>\n",
              "      <th>spread1</th>\n",
              "      <th>spread2</th>\n",
              "      <th>D2</th>\n",
              "      <th>PPE</th>\n",
              "    </tr>\n",
              "  </thead>\n",
              "  <tbody>\n",
              "    <tr>\n",
              "      <th>0</th>\n",
              "      <td>phon_R01_S01_1</td>\n",
              "      <td>119.992</td>\n",
              "      <td>157.302</td>\n",
              "      <td>74.997</td>\n",
              "      <td>0.00784</td>\n",
              "      <td>0.00007</td>\n",
              "      <td>0.00370</td>\n",
              "      <td>0.00554</td>\n",
              "      <td>0.01109</td>\n",
              "      <td>0.04374</td>\n",
              "      <td>0.426</td>\n",
              "      <td>0.02182</td>\n",
              "      <td>0.03130</td>\n",
              "      <td>0.02971</td>\n",
              "      <td>0.06545</td>\n",
              "      <td>0.02211</td>\n",
              "      <td>21.033</td>\n",
              "      <td>1</td>\n",
              "      <td>0.414783</td>\n",
              "      <td>0.815285</td>\n",
              "      <td>-4.813031</td>\n",
              "      <td>0.266482</td>\n",
              "      <td>2.301442</td>\n",
              "      <td>0.284654</td>\n",
              "    </tr>\n",
              "    <tr>\n",
              "      <th>1</th>\n",
              "      <td>phon_R01_S01_2</td>\n",
              "      <td>122.400</td>\n",
              "      <td>148.650</td>\n",
              "      <td>113.819</td>\n",
              "      <td>0.00968</td>\n",
              "      <td>0.00008</td>\n",
              "      <td>0.00465</td>\n",
              "      <td>0.00696</td>\n",
              "      <td>0.01394</td>\n",
              "      <td>0.06134</td>\n",
              "      <td>0.626</td>\n",
              "      <td>0.03134</td>\n",
              "      <td>0.04518</td>\n",
              "      <td>0.04368</td>\n",
              "      <td>0.09403</td>\n",
              "      <td>0.01929</td>\n",
              "      <td>19.085</td>\n",
              "      <td>1</td>\n",
              "      <td>0.458359</td>\n",
              "      <td>0.819521</td>\n",
              "      <td>-4.075192</td>\n",
              "      <td>0.335590</td>\n",
              "      <td>2.486855</td>\n",
              "      <td>0.368674</td>\n",
              "    </tr>\n",
              "    <tr>\n",
              "      <th>2</th>\n",
              "      <td>phon_R01_S01_3</td>\n",
              "      <td>116.682</td>\n",
              "      <td>131.111</td>\n",
              "      <td>111.555</td>\n",
              "      <td>0.01050</td>\n",
              "      <td>0.00009</td>\n",
              "      <td>0.00544</td>\n",
              "      <td>0.00781</td>\n",
              "      <td>0.01633</td>\n",
              "      <td>0.05233</td>\n",
              "      <td>0.482</td>\n",
              "      <td>0.02757</td>\n",
              "      <td>0.03858</td>\n",
              "      <td>0.03590</td>\n",
              "      <td>0.08270</td>\n",
              "      <td>0.01309</td>\n",
              "      <td>20.651</td>\n",
              "      <td>1</td>\n",
              "      <td>0.429895</td>\n",
              "      <td>0.825288</td>\n",
              "      <td>-4.443179</td>\n",
              "      <td>0.311173</td>\n",
              "      <td>2.342259</td>\n",
              "      <td>0.332634</td>\n",
              "    </tr>\n",
              "    <tr>\n",
              "      <th>3</th>\n",
              "      <td>phon_R01_S01_4</td>\n",
              "      <td>116.676</td>\n",
              "      <td>137.871</td>\n",
              "      <td>111.366</td>\n",
              "      <td>0.00997</td>\n",
              "      <td>0.00009</td>\n",
              "      <td>0.00502</td>\n",
              "      <td>0.00698</td>\n",
              "      <td>0.01505</td>\n",
              "      <td>0.05492</td>\n",
              "      <td>0.517</td>\n",
              "      <td>0.02924</td>\n",
              "      <td>0.04005</td>\n",
              "      <td>0.03772</td>\n",
              "      <td>0.08771</td>\n",
              "      <td>0.01353</td>\n",
              "      <td>20.644</td>\n",
              "      <td>1</td>\n",
              "      <td>0.434969</td>\n",
              "      <td>0.819235</td>\n",
              "      <td>-4.117501</td>\n",
              "      <td>0.334147</td>\n",
              "      <td>2.405554</td>\n",
              "      <td>0.368975</td>\n",
              "    </tr>\n",
              "    <tr>\n",
              "      <th>4</th>\n",
              "      <td>phon_R01_S01_5</td>\n",
              "      <td>116.014</td>\n",
              "      <td>141.781</td>\n",
              "      <td>110.655</td>\n",
              "      <td>0.01284</td>\n",
              "      <td>0.00011</td>\n",
              "      <td>0.00655</td>\n",
              "      <td>0.00908</td>\n",
              "      <td>0.01966</td>\n",
              "      <td>0.06425</td>\n",
              "      <td>0.584</td>\n",
              "      <td>0.03490</td>\n",
              "      <td>0.04825</td>\n",
              "      <td>0.04465</td>\n",
              "      <td>0.10470</td>\n",
              "      <td>0.01767</td>\n",
              "      <td>19.649</td>\n",
              "      <td>1</td>\n",
              "      <td>0.417356</td>\n",
              "      <td>0.823484</td>\n",
              "      <td>-3.747787</td>\n",
              "      <td>0.234513</td>\n",
              "      <td>2.332180</td>\n",
              "      <td>0.410335</td>\n",
              "    </tr>\n",
              "    <tr>\n",
              "      <th>...</th>\n",
              "      <td>...</td>\n",
              "      <td>...</td>\n",
              "      <td>...</td>\n",
              "      <td>...</td>\n",
              "      <td>...</td>\n",
              "      <td>...</td>\n",
              "      <td>...</td>\n",
              "      <td>...</td>\n",
              "      <td>...</td>\n",
              "      <td>...</td>\n",
              "      <td>...</td>\n",
              "      <td>...</td>\n",
              "      <td>...</td>\n",
              "      <td>...</td>\n",
              "      <td>...</td>\n",
              "      <td>...</td>\n",
              "      <td>...</td>\n",
              "      <td>...</td>\n",
              "      <td>...</td>\n",
              "      <td>...</td>\n",
              "      <td>...</td>\n",
              "      <td>...</td>\n",
              "      <td>...</td>\n",
              "      <td>...</td>\n",
              "    </tr>\n",
              "    <tr>\n",
              "      <th>190</th>\n",
              "      <td>phon_R01_S50_2</td>\n",
              "      <td>174.188</td>\n",
              "      <td>230.978</td>\n",
              "      <td>94.261</td>\n",
              "      <td>0.00459</td>\n",
              "      <td>0.00003</td>\n",
              "      <td>0.00263</td>\n",
              "      <td>0.00259</td>\n",
              "      <td>0.00790</td>\n",
              "      <td>0.04087</td>\n",
              "      <td>0.405</td>\n",
              "      <td>0.02336</td>\n",
              "      <td>0.02498</td>\n",
              "      <td>0.02745</td>\n",
              "      <td>0.07008</td>\n",
              "      <td>0.02764</td>\n",
              "      <td>19.517</td>\n",
              "      <td>0</td>\n",
              "      <td>0.448439</td>\n",
              "      <td>0.657899</td>\n",
              "      <td>-6.538586</td>\n",
              "      <td>0.121952</td>\n",
              "      <td>2.657476</td>\n",
              "      <td>0.133050</td>\n",
              "    </tr>\n",
              "    <tr>\n",
              "      <th>191</th>\n",
              "      <td>phon_R01_S50_3</td>\n",
              "      <td>209.516</td>\n",
              "      <td>253.017</td>\n",
              "      <td>89.488</td>\n",
              "      <td>0.00564</td>\n",
              "      <td>0.00003</td>\n",
              "      <td>0.00331</td>\n",
              "      <td>0.00292</td>\n",
              "      <td>0.00994</td>\n",
              "      <td>0.02751</td>\n",
              "      <td>0.263</td>\n",
              "      <td>0.01604</td>\n",
              "      <td>0.01657</td>\n",
              "      <td>0.01879</td>\n",
              "      <td>0.04812</td>\n",
              "      <td>0.01810</td>\n",
              "      <td>19.147</td>\n",
              "      <td>0</td>\n",
              "      <td>0.431674</td>\n",
              "      <td>0.683244</td>\n",
              "      <td>-6.195325</td>\n",
              "      <td>0.129303</td>\n",
              "      <td>2.784312</td>\n",
              "      <td>0.168895</td>\n",
              "    </tr>\n",
              "    <tr>\n",
              "      <th>192</th>\n",
              "      <td>phon_R01_S50_4</td>\n",
              "      <td>174.688</td>\n",
              "      <td>240.005</td>\n",
              "      <td>74.287</td>\n",
              "      <td>0.01360</td>\n",
              "      <td>0.00008</td>\n",
              "      <td>0.00624</td>\n",
              "      <td>0.00564</td>\n",
              "      <td>0.01873</td>\n",
              "      <td>0.02308</td>\n",
              "      <td>0.256</td>\n",
              "      <td>0.01268</td>\n",
              "      <td>0.01365</td>\n",
              "      <td>0.01667</td>\n",
              "      <td>0.03804</td>\n",
              "      <td>0.10715</td>\n",
              "      <td>17.883</td>\n",
              "      <td>0</td>\n",
              "      <td>0.407567</td>\n",
              "      <td>0.655683</td>\n",
              "      <td>-6.787197</td>\n",
              "      <td>0.158453</td>\n",
              "      <td>2.679772</td>\n",
              "      <td>0.131728</td>\n",
              "    </tr>\n",
              "    <tr>\n",
              "      <th>193</th>\n",
              "      <td>phon_R01_S50_5</td>\n",
              "      <td>198.764</td>\n",
              "      <td>396.961</td>\n",
              "      <td>74.904</td>\n",
              "      <td>0.00740</td>\n",
              "      <td>0.00004</td>\n",
              "      <td>0.00370</td>\n",
              "      <td>0.00390</td>\n",
              "      <td>0.01109</td>\n",
              "      <td>0.02296</td>\n",
              "      <td>0.241</td>\n",
              "      <td>0.01265</td>\n",
              "      <td>0.01321</td>\n",
              "      <td>0.01588</td>\n",
              "      <td>0.03794</td>\n",
              "      <td>0.07223</td>\n",
              "      <td>19.020</td>\n",
              "      <td>0</td>\n",
              "      <td>0.451221</td>\n",
              "      <td>0.643956</td>\n",
              "      <td>-6.744577</td>\n",
              "      <td>0.207454</td>\n",
              "      <td>2.138608</td>\n",
              "      <td>0.123306</td>\n",
              "    </tr>\n",
              "    <tr>\n",
              "      <th>194</th>\n",
              "      <td>phon_R01_S50_6</td>\n",
              "      <td>214.289</td>\n",
              "      <td>260.277</td>\n",
              "      <td>77.973</td>\n",
              "      <td>0.00567</td>\n",
              "      <td>0.00003</td>\n",
              "      <td>0.00295</td>\n",
              "      <td>0.00317</td>\n",
              "      <td>0.00885</td>\n",
              "      <td>0.01884</td>\n",
              "      <td>0.190</td>\n",
              "      <td>0.01026</td>\n",
              "      <td>0.01161</td>\n",
              "      <td>0.01373</td>\n",
              "      <td>0.03078</td>\n",
              "      <td>0.04398</td>\n",
              "      <td>21.209</td>\n",
              "      <td>0</td>\n",
              "      <td>0.462803</td>\n",
              "      <td>0.664357</td>\n",
              "      <td>-5.724056</td>\n",
              "      <td>0.190667</td>\n",
              "      <td>2.555477</td>\n",
              "      <td>0.148569</td>\n",
              "    </tr>\n",
              "  </tbody>\n",
              "</table>\n",
              "<p>195 rows × 24 columns</p>\n",
              "</div>"
            ],
            "text/plain": [
              "               name  MDVP:Fo(Hz)  MDVP:Fhi(Hz)  ...   spread2        D2       PPE\n",
              "0    phon_R01_S01_1      119.992       157.302  ...  0.266482  2.301442  0.284654\n",
              "1    phon_R01_S01_2      122.400       148.650  ...  0.335590  2.486855  0.368674\n",
              "2    phon_R01_S01_3      116.682       131.111  ...  0.311173  2.342259  0.332634\n",
              "3    phon_R01_S01_4      116.676       137.871  ...  0.334147  2.405554  0.368975\n",
              "4    phon_R01_S01_5      116.014       141.781  ...  0.234513  2.332180  0.410335\n",
              "..              ...          ...           ...  ...       ...       ...       ...\n",
              "190  phon_R01_S50_2      174.188       230.978  ...  0.121952  2.657476  0.133050\n",
              "191  phon_R01_S50_3      209.516       253.017  ...  0.129303  2.784312  0.168895\n",
              "192  phon_R01_S50_4      174.688       240.005  ...  0.158453  2.679772  0.131728\n",
              "193  phon_R01_S50_5      198.764       396.961  ...  0.207454  2.138608  0.123306\n",
              "194  phon_R01_S50_6      214.289       260.277  ...  0.190667  2.555477  0.148569\n",
              "\n",
              "[195 rows x 24 columns]"
            ]
          },
          "metadata": {
            "tags": []
          },
          "execution_count": 158
        }
      ]
    },
    {
      "cell_type": "markdown",
      "metadata": {
        "id": "XP3PkjB-iKtN"
      },
      "source": [
        "Analyse dataset"
      ]
    },
    {
      "cell_type": "code",
      "metadata": {
        "colab": {
          "base_uri": "https://localhost:8080/"
        },
        "id": "frbyZSxeiNX3",
        "outputId": "70ad914f-c341-4853-f301-18737a159b9c"
      },
      "source": [
        "df.info()"
      ],
      "execution_count": 159,
      "outputs": [
        {
          "output_type": "stream",
          "text": [
            "<class 'pandas.core.frame.DataFrame'>\n",
            "RangeIndex: 195 entries, 0 to 194\n",
            "Data columns (total 24 columns):\n",
            " #   Column            Non-Null Count  Dtype  \n",
            "---  ------            --------------  -----  \n",
            " 0   name              195 non-null    object \n",
            " 1   MDVP:Fo(Hz)       195 non-null    float64\n",
            " 2   MDVP:Fhi(Hz)      195 non-null    float64\n",
            " 3   MDVP:Flo(Hz)      195 non-null    float64\n",
            " 4   MDVP:Jitter(%)    195 non-null    float64\n",
            " 5   MDVP:Jitter(Abs)  195 non-null    float64\n",
            " 6   MDVP:RAP          195 non-null    float64\n",
            " 7   MDVP:PPQ          195 non-null    float64\n",
            " 8   Jitter:DDP        195 non-null    float64\n",
            " 9   MDVP:Shimmer      195 non-null    float64\n",
            " 10  MDVP:Shimmer(dB)  195 non-null    float64\n",
            " 11  Shimmer:APQ3      195 non-null    float64\n",
            " 12  Shimmer:APQ5      195 non-null    float64\n",
            " 13  MDVP:APQ          195 non-null    float64\n",
            " 14  Shimmer:DDA       195 non-null    float64\n",
            " 15  NHR               195 non-null    float64\n",
            " 16  HNR               195 non-null    float64\n",
            " 17  status            195 non-null    int64  \n",
            " 18  RPDE              195 non-null    float64\n",
            " 19  DFA               195 non-null    float64\n",
            " 20  spread1           195 non-null    float64\n",
            " 21  spread2           195 non-null    float64\n",
            " 22  D2                195 non-null    float64\n",
            " 23  PPE               195 non-null    float64\n",
            "dtypes: float64(22), int64(1), object(1)\n",
            "memory usage: 36.7+ KB\n"
          ],
          "name": "stdout"
        }
      ]
    },
    {
      "cell_type": "code",
      "metadata": {
        "colab": {
          "base_uri": "https://localhost:8080/",
          "height": 302
        },
        "id": "bIjVr5QvieaK",
        "outputId": "3227d9a0-335d-403c-e054-a23f50b32880"
      },
      "source": [
        "df.describe()"
      ],
      "execution_count": 160,
      "outputs": [
        {
          "output_type": "execute_result",
          "data": {
            "text/html": [
              "<div>\n",
              "<style scoped>\n",
              "    .dataframe tbody tr th:only-of-type {\n",
              "        vertical-align: middle;\n",
              "    }\n",
              "\n",
              "    .dataframe tbody tr th {\n",
              "        vertical-align: top;\n",
              "    }\n",
              "\n",
              "    .dataframe thead th {\n",
              "        text-align: right;\n",
              "    }\n",
              "</style>\n",
              "<table border=\"1\" class=\"dataframe\">\n",
              "  <thead>\n",
              "    <tr style=\"text-align: right;\">\n",
              "      <th></th>\n",
              "      <th>MDVP:Fo(Hz)</th>\n",
              "      <th>MDVP:Fhi(Hz)</th>\n",
              "      <th>MDVP:Flo(Hz)</th>\n",
              "      <th>MDVP:Jitter(%)</th>\n",
              "      <th>MDVP:Jitter(Abs)</th>\n",
              "      <th>MDVP:RAP</th>\n",
              "      <th>MDVP:PPQ</th>\n",
              "      <th>Jitter:DDP</th>\n",
              "      <th>MDVP:Shimmer</th>\n",
              "      <th>MDVP:Shimmer(dB)</th>\n",
              "      <th>Shimmer:APQ3</th>\n",
              "      <th>Shimmer:APQ5</th>\n",
              "      <th>MDVP:APQ</th>\n",
              "      <th>Shimmer:DDA</th>\n",
              "      <th>NHR</th>\n",
              "      <th>HNR</th>\n",
              "      <th>status</th>\n",
              "      <th>RPDE</th>\n",
              "      <th>DFA</th>\n",
              "      <th>spread1</th>\n",
              "      <th>spread2</th>\n",
              "      <th>D2</th>\n",
              "      <th>PPE</th>\n",
              "    </tr>\n",
              "  </thead>\n",
              "  <tbody>\n",
              "    <tr>\n",
              "      <th>count</th>\n",
              "      <td>195.000000</td>\n",
              "      <td>195.000000</td>\n",
              "      <td>195.000000</td>\n",
              "      <td>195.000000</td>\n",
              "      <td>195.000000</td>\n",
              "      <td>195.000000</td>\n",
              "      <td>195.000000</td>\n",
              "      <td>195.000000</td>\n",
              "      <td>195.000000</td>\n",
              "      <td>195.000000</td>\n",
              "      <td>195.000000</td>\n",
              "      <td>195.000000</td>\n",
              "      <td>195.000000</td>\n",
              "      <td>195.000000</td>\n",
              "      <td>195.000000</td>\n",
              "      <td>195.000000</td>\n",
              "      <td>195.000000</td>\n",
              "      <td>195.000000</td>\n",
              "      <td>195.000000</td>\n",
              "      <td>195.000000</td>\n",
              "      <td>195.000000</td>\n",
              "      <td>195.000000</td>\n",
              "      <td>195.000000</td>\n",
              "    </tr>\n",
              "    <tr>\n",
              "      <th>mean</th>\n",
              "      <td>154.228641</td>\n",
              "      <td>197.104918</td>\n",
              "      <td>116.324631</td>\n",
              "      <td>0.006220</td>\n",
              "      <td>0.000044</td>\n",
              "      <td>0.003306</td>\n",
              "      <td>0.003446</td>\n",
              "      <td>0.009920</td>\n",
              "      <td>0.029709</td>\n",
              "      <td>0.282251</td>\n",
              "      <td>0.015664</td>\n",
              "      <td>0.017878</td>\n",
              "      <td>0.024081</td>\n",
              "      <td>0.046993</td>\n",
              "      <td>0.024847</td>\n",
              "      <td>21.885974</td>\n",
              "      <td>0.753846</td>\n",
              "      <td>0.498536</td>\n",
              "      <td>0.718099</td>\n",
              "      <td>-5.684397</td>\n",
              "      <td>0.226510</td>\n",
              "      <td>2.381826</td>\n",
              "      <td>0.206552</td>\n",
              "    </tr>\n",
              "    <tr>\n",
              "      <th>std</th>\n",
              "      <td>41.390065</td>\n",
              "      <td>91.491548</td>\n",
              "      <td>43.521413</td>\n",
              "      <td>0.004848</td>\n",
              "      <td>0.000035</td>\n",
              "      <td>0.002968</td>\n",
              "      <td>0.002759</td>\n",
              "      <td>0.008903</td>\n",
              "      <td>0.018857</td>\n",
              "      <td>0.194877</td>\n",
              "      <td>0.010153</td>\n",
              "      <td>0.012024</td>\n",
              "      <td>0.016947</td>\n",
              "      <td>0.030459</td>\n",
              "      <td>0.040418</td>\n",
              "      <td>4.425764</td>\n",
              "      <td>0.431878</td>\n",
              "      <td>0.103942</td>\n",
              "      <td>0.055336</td>\n",
              "      <td>1.090208</td>\n",
              "      <td>0.083406</td>\n",
              "      <td>0.382799</td>\n",
              "      <td>0.090119</td>\n",
              "    </tr>\n",
              "    <tr>\n",
              "      <th>min</th>\n",
              "      <td>88.333000</td>\n",
              "      <td>102.145000</td>\n",
              "      <td>65.476000</td>\n",
              "      <td>0.001680</td>\n",
              "      <td>0.000007</td>\n",
              "      <td>0.000680</td>\n",
              "      <td>0.000920</td>\n",
              "      <td>0.002040</td>\n",
              "      <td>0.009540</td>\n",
              "      <td>0.085000</td>\n",
              "      <td>0.004550</td>\n",
              "      <td>0.005700</td>\n",
              "      <td>0.007190</td>\n",
              "      <td>0.013640</td>\n",
              "      <td>0.000650</td>\n",
              "      <td>8.441000</td>\n",
              "      <td>0.000000</td>\n",
              "      <td>0.256570</td>\n",
              "      <td>0.574282</td>\n",
              "      <td>-7.964984</td>\n",
              "      <td>0.006274</td>\n",
              "      <td>1.423287</td>\n",
              "      <td>0.044539</td>\n",
              "    </tr>\n",
              "    <tr>\n",
              "      <th>25%</th>\n",
              "      <td>117.572000</td>\n",
              "      <td>134.862500</td>\n",
              "      <td>84.291000</td>\n",
              "      <td>0.003460</td>\n",
              "      <td>0.000020</td>\n",
              "      <td>0.001660</td>\n",
              "      <td>0.001860</td>\n",
              "      <td>0.004985</td>\n",
              "      <td>0.016505</td>\n",
              "      <td>0.148500</td>\n",
              "      <td>0.008245</td>\n",
              "      <td>0.009580</td>\n",
              "      <td>0.013080</td>\n",
              "      <td>0.024735</td>\n",
              "      <td>0.005925</td>\n",
              "      <td>19.198000</td>\n",
              "      <td>1.000000</td>\n",
              "      <td>0.421306</td>\n",
              "      <td>0.674758</td>\n",
              "      <td>-6.450096</td>\n",
              "      <td>0.174351</td>\n",
              "      <td>2.099125</td>\n",
              "      <td>0.137451</td>\n",
              "    </tr>\n",
              "    <tr>\n",
              "      <th>50%</th>\n",
              "      <td>148.790000</td>\n",
              "      <td>175.829000</td>\n",
              "      <td>104.315000</td>\n",
              "      <td>0.004940</td>\n",
              "      <td>0.000030</td>\n",
              "      <td>0.002500</td>\n",
              "      <td>0.002690</td>\n",
              "      <td>0.007490</td>\n",
              "      <td>0.022970</td>\n",
              "      <td>0.221000</td>\n",
              "      <td>0.012790</td>\n",
              "      <td>0.013470</td>\n",
              "      <td>0.018260</td>\n",
              "      <td>0.038360</td>\n",
              "      <td>0.011660</td>\n",
              "      <td>22.085000</td>\n",
              "      <td>1.000000</td>\n",
              "      <td>0.495954</td>\n",
              "      <td>0.722254</td>\n",
              "      <td>-5.720868</td>\n",
              "      <td>0.218885</td>\n",
              "      <td>2.361532</td>\n",
              "      <td>0.194052</td>\n",
              "    </tr>\n",
              "    <tr>\n",
              "      <th>75%</th>\n",
              "      <td>182.769000</td>\n",
              "      <td>224.205500</td>\n",
              "      <td>140.018500</td>\n",
              "      <td>0.007365</td>\n",
              "      <td>0.000060</td>\n",
              "      <td>0.003835</td>\n",
              "      <td>0.003955</td>\n",
              "      <td>0.011505</td>\n",
              "      <td>0.037885</td>\n",
              "      <td>0.350000</td>\n",
              "      <td>0.020265</td>\n",
              "      <td>0.022380</td>\n",
              "      <td>0.029400</td>\n",
              "      <td>0.060795</td>\n",
              "      <td>0.025640</td>\n",
              "      <td>25.075500</td>\n",
              "      <td>1.000000</td>\n",
              "      <td>0.587562</td>\n",
              "      <td>0.761881</td>\n",
              "      <td>-5.046192</td>\n",
              "      <td>0.279234</td>\n",
              "      <td>2.636456</td>\n",
              "      <td>0.252980</td>\n",
              "    </tr>\n",
              "    <tr>\n",
              "      <th>max</th>\n",
              "      <td>260.105000</td>\n",
              "      <td>592.030000</td>\n",
              "      <td>239.170000</td>\n",
              "      <td>0.033160</td>\n",
              "      <td>0.000260</td>\n",
              "      <td>0.021440</td>\n",
              "      <td>0.019580</td>\n",
              "      <td>0.064330</td>\n",
              "      <td>0.119080</td>\n",
              "      <td>1.302000</td>\n",
              "      <td>0.056470</td>\n",
              "      <td>0.079400</td>\n",
              "      <td>0.137780</td>\n",
              "      <td>0.169420</td>\n",
              "      <td>0.314820</td>\n",
              "      <td>33.047000</td>\n",
              "      <td>1.000000</td>\n",
              "      <td>0.685151</td>\n",
              "      <td>0.825288</td>\n",
              "      <td>-2.434031</td>\n",
              "      <td>0.450493</td>\n",
              "      <td>3.671155</td>\n",
              "      <td>0.527367</td>\n",
              "    </tr>\n",
              "  </tbody>\n",
              "</table>\n",
              "</div>"
            ],
            "text/plain": [
              "       MDVP:Fo(Hz)  MDVP:Fhi(Hz)  ...          D2         PPE\n",
              "count   195.000000    195.000000  ...  195.000000  195.000000\n",
              "mean    154.228641    197.104918  ...    2.381826    0.206552\n",
              "std      41.390065     91.491548  ...    0.382799    0.090119\n",
              "min      88.333000    102.145000  ...    1.423287    0.044539\n",
              "25%     117.572000    134.862500  ...    2.099125    0.137451\n",
              "50%     148.790000    175.829000  ...    2.361532    0.194052\n",
              "75%     182.769000    224.205500  ...    2.636456    0.252980\n",
              "max     260.105000    592.030000  ...    3.671155    0.527367\n",
              "\n",
              "[8 rows x 23 columns]"
            ]
          },
          "metadata": {
            "tags": []
          },
          "execution_count": 160
        }
      ]
    },
    {
      "cell_type": "markdown",
      "metadata": {
        "id": "lsS-iiG5i2q3"
      },
      "source": [
        "Check for null values"
      ]
    },
    {
      "cell_type": "code",
      "metadata": {
        "colab": {
          "base_uri": "https://localhost:8080/"
        },
        "id": "xjsTNsmxi5wk",
        "outputId": "0498ca8f-5d9c-4c47-e32d-6583ea7bb16c"
      },
      "source": [
        "df.isnull().sum()"
      ],
      "execution_count": 161,
      "outputs": [
        {
          "output_type": "execute_result",
          "data": {
            "text/plain": [
              "name                0\n",
              "MDVP:Fo(Hz)         0\n",
              "MDVP:Fhi(Hz)        0\n",
              "MDVP:Flo(Hz)        0\n",
              "MDVP:Jitter(%)      0\n",
              "MDVP:Jitter(Abs)    0\n",
              "MDVP:RAP            0\n",
              "MDVP:PPQ            0\n",
              "Jitter:DDP          0\n",
              "MDVP:Shimmer        0\n",
              "MDVP:Shimmer(dB)    0\n",
              "Shimmer:APQ3        0\n",
              "Shimmer:APQ5        0\n",
              "MDVP:APQ            0\n",
              "Shimmer:DDA         0\n",
              "NHR                 0\n",
              "HNR                 0\n",
              "status              0\n",
              "RPDE                0\n",
              "DFA                 0\n",
              "spread1             0\n",
              "spread2             0\n",
              "D2                  0\n",
              "PPE                 0\n",
              "dtype: int64"
            ]
          },
          "metadata": {
            "tags": []
          },
          "execution_count": 161
        }
      ]
    },
    {
      "cell_type": "markdown",
      "metadata": {
        "id": "pXaYu5j2jK5p"
      },
      "source": [
        "Analyse status"
      ]
    },
    {
      "cell_type": "code",
      "metadata": {
        "colab": {
          "base_uri": "https://localhost:8080/"
        },
        "id": "dRkhc2ntjNQq",
        "outputId": "91d7bc2d-ce7e-4c76-b86b-63f7c06f4d6d"
      },
      "source": [
        "target_count = df.groupby('status').status.count()\r\n",
        "target_count"
      ],
      "execution_count": 162,
      "outputs": [
        {
          "output_type": "execute_result",
          "data": {
            "text/plain": [
              "status\n",
              "0     48\n",
              "1    147\n",
              "Name: status, dtype: int64"
            ]
          },
          "metadata": {
            "tags": []
          },
          "execution_count": 162
        }
      ]
    },
    {
      "cell_type": "code",
      "metadata": {
        "colab": {
          "base_uri": "https://localhost:8080/"
        },
        "id": "6P9_FL1xkHa8",
        "outputId": "29714abc-a8de-4111-ea83-543d51911560"
      },
      "source": [
        "percent_target = (target_count / len(df)) * 100\r\n",
        "percent_target"
      ],
      "execution_count": 163,
      "outputs": [
        {
          "output_type": "execute_result",
          "data": {
            "text/plain": [
              "status\n",
              "0    24.615385\n",
              "1    75.384615\n",
              "Name: status, dtype: float64"
            ]
          },
          "metadata": {
            "tags": []
          },
          "execution_count": 163
        }
      ]
    },
    {
      "cell_type": "code",
      "metadata": {
        "colab": {
          "base_uri": "https://localhost:8080/",
          "height": 276
        },
        "id": "HmlLDTazkT-I",
        "outputId": "1913a437-e8b3-4111-9408-e8a4f7fb7f26"
      },
      "source": [
        "df.groupby('status').status.count().plot.bar(ylim=0)\r\n",
        "plt.show()"
      ],
      "execution_count": 164,
      "outputs": [
        {
          "output_type": "display_data",
          "data": {
            "image/png": "[encoded data removed]",
            "text/plain": [
              "<Figure size 432x288 with 1 Axes>"
            ]
          },
          "metadata": {
            "tags": [],
            "needs_background": "light"
          }
        }
      ]
    },
    {
      "cell_type": "markdown",
      "metadata": {
        "id": "lUJ1qzP4kn1r"
      },
      "source": [
        "Analyse data"
      ]
    },
    {
      "cell_type": "code",
      "metadata": {
        "colab": {
          "base_uri": "https://localhost:8080/",
          "height": 630
        },
        "id": "p-CX-Jy7kr8z",
        "outputId": "e4ff8d26-944e-49c0-a656-2c4617d2470a"
      },
      "source": [
        "corrmat = df.corr()\r\n",
        "f, ax = plt.subplots(figsize=(12, 9))\r\n",
        "sns.heatmap(corrmat, vmax=.8, square=True);"
      ],
      "execution_count": 165,
      "outputs": [
        {
          "output_type": "display_data",
          "data": {
            "image/png": "[encoded data removed]",
            "text/plain": [
              "<Figure size 864x648 with 2 Axes>"
            ]
          },
          "metadata": {
            "tags": [],
            "needs_background": "light"
          }
        }
      ]
    },
    {
      "cell_type": "markdown",
      "metadata": {
        "id": "cqiVIYdPlcVb"
      },
      "source": [
        "Define variables"
      ]
    },
    {
      "cell_type": "code",
      "metadata": {
        "id": "d_XDhd7VlfG8"
      },
      "source": [
        "target = df.status\r\n",
        "name = df.name\r\n",
        "\r\n",
        "df.drop(['status', 'name'], axis=1, inplace=True)"
      ],
      "execution_count": 166,
      "outputs": []
    },
    {
      "cell_type": "code",
      "metadata": {
        "colab": {
          "base_uri": "https://localhost:8080/"
        },
        "id": "0cmKEvPpmERP",
        "outputId": "83b751bf-08ee-4eff-9330-0c05bf748cd5"
      },
      "source": [
        "df.info()"
      ],
      "execution_count": 167,
      "outputs": [
        {
          "output_type": "stream",
          "text": [
            "<class 'pandas.core.frame.DataFrame'>\n",
            "RangeIndex: 195 entries, 0 to 194\n",
            "Data columns (total 22 columns):\n",
            " #   Column            Non-Null Count  Dtype  \n",
            "---  ------            --------------  -----  \n",
            " 0   MDVP:Fo(Hz)       195 non-null    float64\n",
            " 1   MDVP:Fhi(Hz)      195 non-null    float64\n",
            " 2   MDVP:Flo(Hz)      195 non-null    float64\n",
            " 3   MDVP:Jitter(%)    195 non-null    float64\n",
            " 4   MDVP:Jitter(Abs)  195 non-null    float64\n",
            " 5   MDVP:RAP          195 non-null    float64\n",
            " 6   MDVP:PPQ          195 non-null    float64\n",
            " 7   Jitter:DDP        195 non-null    float64\n",
            " 8   MDVP:Shimmer      195 non-null    float64\n",
            " 9   MDVP:Shimmer(dB)  195 non-null    float64\n",
            " 10  Shimmer:APQ3      195 non-null    float64\n",
            " 11  Shimmer:APQ5      195 non-null    float64\n",
            " 12  MDVP:APQ          195 non-null    float64\n",
            " 13  Shimmer:DDA       195 non-null    float64\n",
            " 14  NHR               195 non-null    float64\n",
            " 15  HNR               195 non-null    float64\n",
            " 16  RPDE              195 non-null    float64\n",
            " 17  DFA               195 non-null    float64\n",
            " 18  spread1           195 non-null    float64\n",
            " 19  spread2           195 non-null    float64\n",
            " 20  D2                195 non-null    float64\n",
            " 21  PPE               195 non-null    float64\n",
            "dtypes: float64(22)\n",
            "memory usage: 33.6 KB\n"
          ],
          "name": "stdout"
        }
      ]
    },
    {
      "cell_type": "code",
      "metadata": {
        "id": "qI2AG42XnVCX"
      },
      "source": [
        "y = target\r\n",
        "X = df"
      ],
      "execution_count": 168,
      "outputs": []
    },
    {
      "cell_type": "markdown",
      "metadata": {
        "id": "EDqvnpLLnelO"
      },
      "source": [
        "Normalise data"
      ]
    },
    {
      "cell_type": "code",
      "metadata": {
        "colab": {
          "base_uri": "https://localhost:8080/",
          "height": 419
        },
        "id": "m1XgFo8Kng9K",
        "outputId": "1892cb5d-3a77-4323-d1d2-f23f7caa7894"
      },
      "source": [
        "X = (X - X.min()) / (X.max() - X.min())\r\n",
        "X"
      ],
      "execution_count": 169,
      "outputs": [
        {
          "output_type": "execute_result",
          "data": {
            "text/html": [
              "<div>\n",
              "<style scoped>\n",
              "    .dataframe tbody tr th:only-of-type {\n",
              "        vertical-align: middle;\n",
              "    }\n",
              "\n",
              "    .dataframe tbody tr th {\n",
              "        vertical-align: top;\n",
              "    }\n",
              "\n",
              "    .dataframe thead th {\n",
              "        text-align: right;\n",
              "    }\n",
              "</style>\n",
              "<table border=\"1\" class=\"dataframe\">\n",
              "  <thead>\n",
              "    <tr style=\"text-align: right;\">\n",
              "      <th></th>\n",
              "      <th>MDVP:Fo(Hz)</th>\n",
              "      <th>MDVP:Fhi(Hz)</th>\n",
              "      <th>MDVP:Flo(Hz)</th>\n",
              "      <th>MDVP:Jitter(%)</th>\n",
              "      <th>MDVP:Jitter(Abs)</th>\n",
              "      <th>MDVP:RAP</th>\n",
              "      <th>MDVP:PPQ</th>\n",
              "      <th>Jitter:DDP</th>\n",
              "      <th>MDVP:Shimmer</th>\n",
              "      <th>MDVP:Shimmer(dB)</th>\n",
              "      <th>Shimmer:APQ3</th>\n",
              "      <th>Shimmer:APQ5</th>\n",
              "      <th>MDVP:APQ</th>\n",
              "      <th>Shimmer:DDA</th>\n",
              "      <th>NHR</th>\n",
              "      <th>HNR</th>\n",
              "      <th>RPDE</th>\n",
              "      <th>DFA</th>\n",
              "      <th>spread1</th>\n",
              "      <th>spread2</th>\n",
              "      <th>D2</th>\n",
              "      <th>PPE</th>\n",
              "    </tr>\n",
              "  </thead>\n",
              "  <tbody>\n",
              "    <tr>\n",
              "      <th>0</th>\n",
              "      <td>0.184308</td>\n",
              "      <td>0.112592</td>\n",
              "      <td>0.054815</td>\n",
              "      <td>0.195680</td>\n",
              "      <td>0.249012</td>\n",
              "      <td>0.145472</td>\n",
              "      <td>0.247588</td>\n",
              "      <td>0.145288</td>\n",
              "      <td>0.312215</td>\n",
              "      <td>0.280197</td>\n",
              "      <td>0.332627</td>\n",
              "      <td>0.347354</td>\n",
              "      <td>0.172448</td>\n",
              "      <td>0.332584</td>\n",
              "      <td>0.068307</td>\n",
              "      <td>0.511745</td>\n",
              "      <td>0.369155</td>\n",
              "      <td>0.960148</td>\n",
              "      <td>0.569875</td>\n",
              "      <td>0.585765</td>\n",
              "      <td>0.390661</td>\n",
              "      <td>0.497310</td>\n",
              "    </tr>\n",
              "    <tr>\n",
              "      <th>1</th>\n",
              "      <td>0.198327</td>\n",
              "      <td>0.094930</td>\n",
              "      <td>0.278323</td>\n",
              "      <td>0.254130</td>\n",
              "      <td>0.288538</td>\n",
              "      <td>0.191233</td>\n",
              "      <td>0.323687</td>\n",
              "      <td>0.191042</td>\n",
              "      <td>0.472887</td>\n",
              "      <td>0.444536</td>\n",
              "      <td>0.515986</td>\n",
              "      <td>0.535685</td>\n",
              "      <td>0.279424</td>\n",
              "      <td>0.516048</td>\n",
              "      <td>0.059331</td>\n",
              "      <td>0.432577</td>\n",
              "      <td>0.470830</td>\n",
              "      <td>0.977024</td>\n",
              "      <td>0.703277</td>\n",
              "      <td>0.741337</td>\n",
              "      <td>0.473145</td>\n",
              "      <td>0.671326</td>\n",
              "    </tr>\n",
              "    <tr>\n",
              "      <th>2</th>\n",
              "      <td>0.165039</td>\n",
              "      <td>0.059128</td>\n",
              "      <td>0.265288</td>\n",
              "      <td>0.280178</td>\n",
              "      <td>0.328063</td>\n",
              "      <td>0.229287</td>\n",
              "      <td>0.369239</td>\n",
              "      <td>0.229411</td>\n",
              "      <td>0.390634</td>\n",
              "      <td>0.326212</td>\n",
              "      <td>0.443374</td>\n",
              "      <td>0.446133</td>\n",
              "      <td>0.219848</td>\n",
              "      <td>0.443317</td>\n",
              "      <td>0.039596</td>\n",
              "      <td>0.496220</td>\n",
              "      <td>0.404416</td>\n",
              "      <td>1.000000</td>\n",
              "      <td>0.636745</td>\n",
              "      <td>0.686371</td>\n",
              "      <td>0.408819</td>\n",
              "      <td>0.596682</td>\n",
              "    </tr>\n",
              "    <tr>\n",
              "      <th>3</th>\n",
              "      <td>0.165004</td>\n",
              "      <td>0.072927</td>\n",
              "      <td>0.264200</td>\n",
              "      <td>0.263342</td>\n",
              "      <td>0.328063</td>\n",
              "      <td>0.209056</td>\n",
              "      <td>0.324759</td>\n",
              "      <td>0.208862</td>\n",
              "      <td>0.414278</td>\n",
              "      <td>0.354971</td>\n",
              "      <td>0.475539</td>\n",
              "      <td>0.466079</td>\n",
              "      <td>0.233785</td>\n",
              "      <td>0.475478</td>\n",
              "      <td>0.040997</td>\n",
              "      <td>0.495936</td>\n",
              "      <td>0.416255</td>\n",
              "      <td>0.975885</td>\n",
              "      <td>0.695627</td>\n",
              "      <td>0.738089</td>\n",
              "      <td>0.436977</td>\n",
              "      <td>0.671949</td>\n",
              "    </tr>\n",
              "    <tr>\n",
              "      <th>4</th>\n",
              "      <td>0.161150</td>\n",
              "      <td>0.080909</td>\n",
              "      <td>0.260107</td>\n",
              "      <td>0.354511</td>\n",
              "      <td>0.407115</td>\n",
              "      <td>0.282755</td>\n",
              "      <td>0.437299</td>\n",
              "      <td>0.282870</td>\n",
              "      <td>0.499452</td>\n",
              "      <td>0.410025</td>\n",
              "      <td>0.584553</td>\n",
              "      <td>0.577341</td>\n",
              "      <td>0.286852</td>\n",
              "      <td>0.584542</td>\n",
              "      <td>0.054174</td>\n",
              "      <td>0.455499</td>\n",
              "      <td>0.375159</td>\n",
              "      <td>0.992813</td>\n",
              "      <td>0.762472</td>\n",
              "      <td>0.513798</td>\n",
              "      <td>0.404336</td>\n",
              "      <td>0.757611</td>\n",
              "    </tr>\n",
              "    <tr>\n",
              "      <th>...</th>\n",
              "      <td>...</td>\n",
              "      <td>...</td>\n",
              "      <td>...</td>\n",
              "      <td>...</td>\n",
              "      <td>...</td>\n",
              "      <td>...</td>\n",
              "      <td>...</td>\n",
              "      <td>...</td>\n",
              "      <td>...</td>\n",
              "      <td>...</td>\n",
              "      <td>...</td>\n",
              "      <td>...</td>\n",
              "      <td>...</td>\n",
              "      <td>...</td>\n",
              "      <td>...</td>\n",
              "      <td>...</td>\n",
              "      <td>...</td>\n",
              "      <td>...</td>\n",
              "      <td>...</td>\n",
              "      <td>...</td>\n",
              "      <td>...</td>\n",
              "      <td>...</td>\n",
              "    </tr>\n",
              "    <tr>\n",
              "      <th>190</th>\n",
              "      <td>0.499820</td>\n",
              "      <td>0.262986</td>\n",
              "      <td>0.165722</td>\n",
              "      <td>0.092440</td>\n",
              "      <td>0.090909</td>\n",
              "      <td>0.093931</td>\n",
              "      <td>0.089496</td>\n",
              "      <td>0.094076</td>\n",
              "      <td>0.286014</td>\n",
              "      <td>0.262942</td>\n",
              "      <td>0.362288</td>\n",
              "      <td>0.261601</td>\n",
              "      <td>0.155142</td>\n",
              "      <td>0.362306</td>\n",
              "      <td>0.085909</td>\n",
              "      <td>0.450134</td>\n",
              "      <td>0.447684</td>\n",
              "      <td>0.333127</td>\n",
              "      <td>0.257894</td>\n",
              "      <td>0.260408</td>\n",
              "      <td>0.549049</td>\n",
              "      <td>0.183318</td>\n",
              "    </tr>\n",
              "    <tr>\n",
              "      <th>191</th>\n",
              "      <td>0.705488</td>\n",
              "      <td>0.307974</td>\n",
              "      <td>0.138243</td>\n",
              "      <td>0.125794</td>\n",
              "      <td>0.090909</td>\n",
              "      <td>0.126686</td>\n",
              "      <td>0.107181</td>\n",
              "      <td>0.126826</td>\n",
              "      <td>0.164050</td>\n",
              "      <td>0.146261</td>\n",
              "      <td>0.221302</td>\n",
              "      <td>0.147490</td>\n",
              "      <td>0.088828</td>\n",
              "      <td>0.221338</td>\n",
              "      <td>0.055543</td>\n",
              "      <td>0.435097</td>\n",
              "      <td>0.408567</td>\n",
              "      <td>0.434101</td>\n",
              "      <td>0.319956</td>\n",
              "      <td>0.276956</td>\n",
              "      <td>0.605474</td>\n",
              "      <td>0.257558</td>\n",
              "    </tr>\n",
              "    <tr>\n",
              "      <th>192</th>\n",
              "      <td>0.502730</td>\n",
              "      <td>0.281413</td>\n",
              "      <td>0.050727</td>\n",
              "      <td>0.378653</td>\n",
              "      <td>0.288538</td>\n",
              "      <td>0.267823</td>\n",
              "      <td>0.252947</td>\n",
              "      <td>0.267940</td>\n",
              "      <td>0.123608</td>\n",
              "      <td>0.140509</td>\n",
              "      <td>0.156587</td>\n",
              "      <td>0.107870</td>\n",
              "      <td>0.072594</td>\n",
              "      <td>0.156631</td>\n",
              "      <td>0.338988</td>\n",
              "      <td>0.383728</td>\n",
              "      <td>0.352318</td>\n",
              "      <td>0.324299</td>\n",
              "      <td>0.212945</td>\n",
              "      <td>0.342577</td>\n",
              "      <td>0.558967</td>\n",
              "      <td>0.180580</td>\n",
              "    </tr>\n",
              "    <tr>\n",
              "      <th>193</th>\n",
              "      <td>0.642893</td>\n",
              "      <td>0.601807</td>\n",
              "      <td>0.054279</td>\n",
              "      <td>0.181703</td>\n",
              "      <td>0.130435</td>\n",
              "      <td>0.145472</td>\n",
              "      <td>0.159700</td>\n",
              "      <td>0.145288</td>\n",
              "      <td>0.122512</td>\n",
              "      <td>0.128184</td>\n",
              "      <td>0.156009</td>\n",
              "      <td>0.101900</td>\n",
              "      <td>0.066544</td>\n",
              "      <td>0.155989</td>\n",
              "      <td>0.227838</td>\n",
              "      <td>0.429936</td>\n",
              "      <td>0.454176</td>\n",
              "      <td>0.277579</td>\n",
              "      <td>0.220650</td>\n",
              "      <td>0.452885</td>\n",
              "      <td>0.318222</td>\n",
              "      <td>0.163137</td>\n",
              "    </tr>\n",
              "    <tr>\n",
              "      <th>194</th>\n",
              "      <td>0.733274</td>\n",
              "      <td>0.322794</td>\n",
              "      <td>0.071948</td>\n",
              "      <td>0.126747</td>\n",
              "      <td>0.090909</td>\n",
              "      <td>0.109345</td>\n",
              "      <td>0.120579</td>\n",
              "      <td>0.109327</td>\n",
              "      <td>0.084900</td>\n",
              "      <td>0.086278</td>\n",
              "      <td>0.109977</td>\n",
              "      <td>0.080190</td>\n",
              "      <td>0.050080</td>\n",
              "      <td>0.110027</td>\n",
              "      <td>0.137919</td>\n",
              "      <td>0.518898</td>\n",
              "      <td>0.481200</td>\n",
              "      <td>0.358856</td>\n",
              "      <td>0.405161</td>\n",
              "      <td>0.415095</td>\n",
              "      <td>0.503673</td>\n",
              "      <td>0.215460</td>\n",
              "    </tr>\n",
              "  </tbody>\n",
              "</table>\n",
              "<p>195 rows × 22 columns</p>\n",
              "</div>"
            ],
            "text/plain": [
              "     MDVP:Fo(Hz)  MDVP:Fhi(Hz)  MDVP:Flo(Hz)  ...   spread2        D2       PPE\n",
              "0       0.184308      0.112592      0.054815  ...  0.585765  0.390661  0.497310\n",
              "1       0.198327      0.094930      0.278323  ...  0.741337  0.473145  0.671326\n",
              "2       0.165039      0.059128      0.265288  ...  0.686371  0.408819  0.596682\n",
              "3       0.165004      0.072927      0.264200  ...  0.738089  0.436977  0.671949\n",
              "4       0.161150      0.080909      0.260107  ...  0.513798  0.404336  0.757611\n",
              "..           ...           ...           ...  ...       ...       ...       ...\n",
              "190     0.499820      0.262986      0.165722  ...  0.260408  0.549049  0.183318\n",
              "191     0.705488      0.307974      0.138243  ...  0.276956  0.605474  0.257558\n",
              "192     0.502730      0.281413      0.050727  ...  0.342577  0.558967  0.180580\n",
              "193     0.642893      0.601807      0.054279  ...  0.452885  0.318222  0.163137\n",
              "194     0.733274      0.322794      0.071948  ...  0.415095  0.503673  0.215460\n",
              "\n",
              "[195 rows x 22 columns]"
            ]
          },
          "metadata": {
            "tags": []
          },
          "execution_count": 169
        }
      ]
    },
    {
      "cell_type": "markdown",
      "metadata": {
        "id": "YoHFngiln9Hw"
      },
      "source": [
        "Split X for training and validating"
      ]
    },
    {
      "cell_type": "code",
      "metadata": {
        "colab": {
          "base_uri": "https://localhost:8080/"
        },
        "id": "-nllVZPaoNLo",
        "outputId": "3fcaa463-6332-4a4f-e1b7-643c7b8e24cd"
      },
      "source": [
        "from sklearn.model_selection import train_test_split\r\n",
        "\r\n",
        "X_train, X_val, y_train, y_val = train_test_split(X, y, test_size=0.1, random_state=1)\r\n",
        "X_train.shape, X_val.shape, y_train.shape,y_val.shape"
      ],
      "execution_count": 170,
      "outputs": [
        {
          "output_type": "execute_result",
          "data": {
            "text/plain": [
              "((175, 22), (20, 22), (175,), (20,))"
            ]
          },
          "metadata": {
            "tags": []
          },
          "execution_count": 170
        }
      ]
    },
    {
      "cell_type": "markdown",
      "metadata": {
        "id": "VX0M14uSogvm"
      },
      "source": [
        "Select model"
      ]
    },
    {
      "cell_type": "code",
      "metadata": {
        "colab": {
          "base_uri": "https://localhost:8080/"
        },
        "id": "YqFCuCxvojBQ",
        "outputId": "6834c6d4-16a4-4ebc-fc6c-cd67258f9b2d"
      },
      "source": [
        "from xgboost import XGBClassifier\r\n",
        "\r\n",
        "model = XGBClassifier().fit(X_train,y_train)\r\n",
        "print(model.score(X_train, y_train))"
      ],
      "execution_count": 171,
      "outputs": [
        {
          "output_type": "stream",
          "text": [
            "1.0\n"
          ],
          "name": "stdout"
        }
      ]
    },
    {
      "cell_type": "markdown",
      "metadata": {
        "id": "LTiiPdIPpGeB"
      },
      "source": [
        "Predict on validation set"
      ]
    },
    {
      "cell_type": "code",
      "metadata": {
        "colab": {
          "base_uri": "https://localhost:8080/"
        },
        "id": "pGOS58x7pK3x",
        "outputId": "525761aa-cee6-4c7b-ba58-b13b753f3b26"
      },
      "source": [
        "y_pred = model.predict(X_val)\r\n",
        "print(model.score(X_val, y_val))"
      ],
      "execution_count": 172,
      "outputs": [
        {
          "output_type": "stream",
          "text": [
            "1.0\n"
          ],
          "name": "stdout"
        }
      ]
    },
    {
      "cell_type": "markdown",
      "metadata": {
        "id": "WIckrSpmphxB"
      },
      "source": [
        "Confusion matrix"
      ]
    },
    {
      "cell_type": "code",
      "metadata": {
        "colab": {
          "base_uri": "https://localhost:8080/"
        },
        "id": "HU87PZjSpkQ3",
        "outputId": "3a38e024-6896-4494-931f-2daab1600023"
      },
      "source": [
        "from sklearn.metrics import confusion_matrix\r\n",
        "\r\n",
        "print(confusion_matrix(y_val,y_pred))"
      ],
      "execution_count": 173,
      "outputs": [
        {
          "output_type": "stream",
          "text": [
            "[[ 4  0]\n",
            " [ 0 16]]\n"
          ],
          "name": "stdout"
        }
      ]
    },
    {
      "cell_type": "code",
      "metadata": {
        "colab": {
          "base_uri": "https://localhost:8080/",
          "height": 634
        },
        "id": "Al8DjmkZpg8g",
        "outputId": "5f11882d-0812-4264-aa16-2a620581068f"
      },
      "source": [
        "df_val = pd.DataFrame({'Actual': y_val, 'Predicted':y_pred})\r\n",
        "df_val"
      ],
      "execution_count": 174,
      "outputs": [
        {
          "output_type": "execute_result",
          "data": {
            "text/html": [
              "<div>\n",
              "<style scoped>\n",
              "    .dataframe tbody tr th:only-of-type {\n",
              "        vertical-align: middle;\n",
              "    }\n",
              "\n",
              "    .dataframe tbody tr th {\n",
              "        vertical-align: top;\n",
              "    }\n",
              "\n",
              "    .dataframe thead th {\n",
              "        text-align: right;\n",
              "    }\n",
              "</style>\n",
              "<table border=\"1\" class=\"dataframe\">\n",
              "  <thead>\n",
              "    <tr style=\"text-align: right;\">\n",
              "      <th></th>\n",
              "      <th>Actual</th>\n",
              "      <th>Predicted</th>\n",
              "    </tr>\n",
              "  </thead>\n",
              "  <tbody>\n",
              "    <tr>\n",
              "      <th>132</th>\n",
              "      <td>1</td>\n",
              "      <td>1</td>\n",
              "    </tr>\n",
              "    <tr>\n",
              "      <th>16</th>\n",
              "      <td>1</td>\n",
              "      <td>1</td>\n",
              "    </tr>\n",
              "    <tr>\n",
              "      <th>18</th>\n",
              "      <td>1</td>\n",
              "      <td>1</td>\n",
              "    </tr>\n",
              "    <tr>\n",
              "      <th>51</th>\n",
              "      <td>0</td>\n",
              "      <td>0</td>\n",
              "    </tr>\n",
              "    <tr>\n",
              "      <th>164</th>\n",
              "      <td>1</td>\n",
              "      <td>1</td>\n",
              "    </tr>\n",
              "    <tr>\n",
              "      <th>145</th>\n",
              "      <td>1</td>\n",
              "      <td>1</td>\n",
              "    </tr>\n",
              "    <tr>\n",
              "      <th>11</th>\n",
              "      <td>1</td>\n",
              "      <td>1</td>\n",
              "    </tr>\n",
              "    <tr>\n",
              "      <th>27</th>\n",
              "      <td>1</td>\n",
              "      <td>1</td>\n",
              "    </tr>\n",
              "    <tr>\n",
              "      <th>176</th>\n",
              "      <td>0</td>\n",
              "      <td>0</td>\n",
              "    </tr>\n",
              "    <tr>\n",
              "      <th>118</th>\n",
              "      <td>1</td>\n",
              "      <td>1</td>\n",
              "    </tr>\n",
              "    <tr>\n",
              "      <th>28</th>\n",
              "      <td>1</td>\n",
              "      <td>1</td>\n",
              "    </tr>\n",
              "    <tr>\n",
              "      <th>170</th>\n",
              "      <td>0</td>\n",
              "      <td>0</td>\n",
              "    </tr>\n",
              "    <tr>\n",
              "      <th>56</th>\n",
              "      <td>1</td>\n",
              "      <td>1</td>\n",
              "    </tr>\n",
              "    <tr>\n",
              "      <th>116</th>\n",
              "      <td>1</td>\n",
              "      <td>1</td>\n",
              "    </tr>\n",
              "    <tr>\n",
              "      <th>103</th>\n",
              "      <td>1</td>\n",
              "      <td>1</td>\n",
              "    </tr>\n",
              "    <tr>\n",
              "      <th>31</th>\n",
              "      <td>0</td>\n",
              "      <td>0</td>\n",
              "    </tr>\n",
              "    <tr>\n",
              "      <th>59</th>\n",
              "      <td>1</td>\n",
              "      <td>1</td>\n",
              "    </tr>\n",
              "    <tr>\n",
              "      <th>40</th>\n",
              "      <td>1</td>\n",
              "      <td>1</td>\n",
              "    </tr>\n",
              "    <tr>\n",
              "      <th>136</th>\n",
              "      <td>1</td>\n",
              "      <td>1</td>\n",
              "    </tr>\n",
              "    <tr>\n",
              "      <th>95</th>\n",
              "      <td>1</td>\n",
              "      <td>1</td>\n",
              "    </tr>\n",
              "  </tbody>\n",
              "</table>\n",
              "</div>"
            ],
            "text/plain": [
              "     Actual  Predicted\n",
              "132       1          1\n",
              "16        1          1\n",
              "18        1          1\n",
              "51        0          0\n",
              "164       1          1\n",
              "145       1          1\n",
              "11        1          1\n",
              "27        1          1\n",
              "176       0          0\n",
              "118       1          1\n",
              "28        1          1\n",
              "170       0          0\n",
              "56        1          1\n",
              "116       1          1\n",
              "103       1          1\n",
              "31        0          0\n",
              "59        1          1\n",
              "40        1          1\n",
              "136       1          1\n",
              "95        1          1"
            ]
          },
          "metadata": {
            "tags": []
          },
          "execution_count": 174
        }
      ]
    },
    {
      "cell_type": "markdown",
      "metadata": {
        "id": "2EY_AOG_r-zT"
      },
      "source": [
        "Plot result"
      ]
    },
    {
      "cell_type": "code",
      "metadata": {
        "colab": {
          "base_uri": "https://localhost:8080/",
          "height": 500
        },
        "id": "w2f8nogQsAwG",
        "outputId": "e323b948-816a-448b-956b-993ea90655f6"
      },
      "source": [
        "from sklearn.decomposition import PCA\r\n",
        "\r\n",
        "pca_val = PCA(n_components=2)\r\n",
        "principalComponents_val = pca_val.fit_transform(X_val)\r\n",
        "\r\n",
        "plt.figure(figsize = (12, 8))\r\n",
        "plt.scatter(principalComponents_val[:, 0], principalComponents_val[:,1], c = y_pred == y_val - 1, alpha = .8, s = 50)"
      ],
      "execution_count": 175,
      "outputs": [
        {
          "output_type": "execute_result",
          "data": {
            "text/plain": [
              "<matplotlib.collections.PathCollection at 0x7f5f743d2f90>"
            ]
          },
          "metadata": {
            "tags": []
          },
          "execution_count": 175
        },
        {
          "output_type": "display_data",
          "data": {
            "image/png": "[encoded data removed]",
            "text/plain": [
              "<Figure size 864x576 with 1 Axes>"
            ]
          },
          "metadata": {
            "tags": [],
            "needs_background": "light"
          }
        }
      ]
    }
  ]
}